{
 "cells": [
  {
   "cell_type": "code",
   "execution_count": 17,
   "id": "5f142448-edae-4130-95cc-f5c3cd4d69a1",
   "metadata": {},
   "outputs": [],
   "source": [
    "import pandas as pd\n",
    "from sklearn.linear_model import LinearRegression"
   ]
  },
  {
   "cell_type": "markdown",
   "id": "c6935b78-fd39-43d7-8dbd-bcf328e016a4",
   "metadata": {},
   "source": [
    "### Hyödynnetään R:llä tallennettuja csv- iedostoja, koska ainakaan toistaiseksi tilastokeskuksen API ei tue Pythonia. Ainakaan yhtä helppokäyttöisesti kuin R:llä."
   ]
  },
  {
   "cell_type": "code",
   "execution_count": 13,
   "id": "0d8b9edb-7905-4f6e-9097-acb5dcaa89c2",
   "metadata": {},
   "outputs": [],
   "source": [
    "hakkuut=pd.read_csv('Hakkuut.csv',encoding='latin-1')\n",
    "manty=pd.read_csv('manty.csv',encoding='latin-1')\n",
    "kuusi=pd.read_csv('kuusi.csv',encoding='latin-1')\n",
    "koivu=pd.read_csv('koivu.csv',encoding='latin-1')"
   ]
  },
  {
   "cell_type": "markdown",
   "id": "6b9ea0cd-36ba-437b-a208-ba2c5210b735",
   "metadata": {},
   "source": [
    "### Lineaariset regressiomallit vastaavasti kuin R:llä, mutta hyödynnetään sklearn-kirjastoa."
   ]
  },
  {
   "cell_type": "code",
   "execution_count": 26,
   "id": "e64d8a12-a472-4bb7-b66c-f1fe883d68d6",
   "metadata": {},
   "outputs": [],
   "source": [
    "reg=LinearRegression().fit(hakkuut[['Hakkuukertymä omistajaryhmittäin koko maassa 1985-']],manty[['Kantohinnat']])\n",
    "reg2=LinearRegression().fit(hakkuut[['Hakkuukertymä omistajaryhmittäin koko maassa 1985-']],kuusi[['Kantohinnat']])\n",
    "reg3=LinearRegression().fit(hakkuut[['Hakkuukertymä omistajaryhmittäin koko maassa 1985-']],koivu[['Kantohinnat']])"
   ]
  },
  {
   "cell_type": "markdown",
   "id": "0d293082-71fc-427a-857c-f741b593f625",
   "metadata": {},
   "source": [
    "### Saadaan selitysasteiksi odotetusti hyvin samanlaiset luvut kuin R:llä."
   ]
  },
  {
   "cell_type": "code",
   "execution_count": 25,
   "id": "0f445012-dfc9-4890-8231-d314d0d4ac53",
   "metadata": {},
   "outputs": [
    {
     "data": {
      "text/plain": [
       "0.45699687987433757"
      ]
     },
     "execution_count": 25,
     "metadata": {},
     "output_type": "execute_result"
    }
   ],
   "source": [
    "reg.score(hakkuut[['Hakkuukertymä omistajaryhmittäin koko maassa 1985-']],manty[['Kantohinnat']])"
   ]
  },
  {
   "cell_type": "code",
   "execution_count": 28,
   "id": "7048554b-3907-4681-a320-c46099807abc",
   "metadata": {},
   "outputs": [
    {
     "data": {
      "text/plain": [
       "0.4444929984039613"
      ]
     },
     "execution_count": 28,
     "metadata": {},
     "output_type": "execute_result"
    }
   ],
   "source": [
    "reg2.score(hakkuut[['Hakkuukertymä omistajaryhmittäin koko maassa 1985-']],kuusi[['Kantohinnat']])"
   ]
  },
  {
   "cell_type": "code",
   "execution_count": 30,
   "id": "755081aa-8f68-424a-bc8f-18e3ba4b2283",
   "metadata": {},
   "outputs": [
    {
     "data": {
      "text/plain": [
       "0.07548330705857442"
      ]
     },
     "execution_count": 30,
     "metadata": {},
     "output_type": "execute_result"
    }
   ],
   "source": [
    "reg3.score(hakkuut[['Hakkuukertymä omistajaryhmittäin koko maassa 1985-']],koivu[['Kantohinnat']])"
   ]
  }
 ],
 "metadata": {
  "kernelspec": {
   "display_name": "Python 3 (ipykernel)",
   "language": "python",
   "name": "python3"
  },
  "language_info": {
   "codemirror_mode": {
    "name": "ipython",
    "version": 3
   },
   "file_extension": ".py",
   "mimetype": "text/x-python",
   "name": "python",
   "nbconvert_exporter": "python",
   "pygments_lexer": "ipython3",
   "version": "3.9.6"
  }
 },
 "nbformat": 4,
 "nbformat_minor": 5
}
